{
 "cells": [
  {
   "cell_type": "code",
   "execution_count": 1,
   "metadata": {},
   "outputs": [
    {
     "name": "stdout",
     "output_type": "stream",
     "text": [
      "KeysView(NpzFile './datasets/Classical/35_IMS.npz' with keys: X, y)\n"
     ]
    }
   ],
   "source": [
    "# Load the file ./datasets/Classical/31_Milling.npz\n",
    "\n",
    "import numpy as np\n",
    "import matplotlib.pyplot as plt\n",
    "\n",
    "# Load the dataset\n",
    "# data = np.load('./datasets/Classical/31_Milling.npz')\n",
    "# data = np.load('./datasets/Classical/54_CNCMachining.npz')\n",
    "data = np.load('./datasets/Classical/35_IMS.npz')\n",
    "# data = np.load('./datasets/Classical/95_CWRUBearing.npz')\n",
    "\n",
    "# Print the keys of the dataset\n",
    "print(data.keys())"
   ]
  },
  {
   "cell_type": "code",
   "execution_count": 2,
   "metadata": {},
   "outputs": [
    {
     "data": {
      "text/plain": [
       "((1258266, 8),\n",
       " array([[-0.103, -0.156, -0.164, ..., -0.21 ,  0.044, -0.254],\n",
       "        [-0.151, -0.071, -0.251, ..., -0.056, -0.208, -0.081],\n",
       "        [-0.085, -0.083, -0.11 , ..., -0.222, -0.146, -0.083],\n",
       "        ...,\n",
       "        [-0.103, -0.125, -0.024, ..., -0.244,  0.02 , -0.129],\n",
       "        [-0.229, -0.107, -0.066, ..., -0.217, -0.098, -0.029],\n",
       "        [-0.022, -0.107, -0.054, ...,  0.037, -0.156, -0.107]]),\n",
       " (1258266,),\n",
       " array([0., 1., 0., ..., 0., 0., 0.]))"
      ]
     },
     "execution_count": 2,
     "metadata": {},
     "output_type": "execute_result"
    }
   ],
   "source": [
    "data['X'].shape, data['X'], data['y'].shape, data['y']"
   ]
  },
  {
   "cell_type": "code",
   "execution_count": 21,
   "metadata": {},
   "outputs": [
    {
     "data": {
      "text/plain": [
       "{0.0, 1.0}"
      ]
     },
     "execution_count": 21,
     "metadata": {},
     "output_type": "execute_result"
    }
   ],
   "source": [
    "set(data['y'])"
   ]
  }
 ],
 "metadata": {
  "kernelspec": {
   "display_name": "Python 3",
   "language": "python",
   "name": "python3"
  },
  "language_info": {
   "codemirror_mode": {
    "name": "ipython",
    "version": 3
   },
   "file_extension": ".py",
   "mimetype": "text/x-python",
   "name": "python",
   "nbconvert_exporter": "python",
   "pygments_lexer": "ipython3",
   "version": "3.11.11"
  }
 },
 "nbformat": 4,
 "nbformat_minor": 2
}
